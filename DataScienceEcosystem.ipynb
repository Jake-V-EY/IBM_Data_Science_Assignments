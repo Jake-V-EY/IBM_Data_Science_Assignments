{
 "cells": [
  {
   "attachments": {},
   "cell_type": "markdown",
   "id": "9a72f7f6-2edf-4913-ae85-bc7f8a1a3e2a",
   "metadata": {},
   "source": [
    "# Exercise 1: Create a Jupyter Notebook\n",
    "*Create a new Jupyter notebook called DataScienceEcosystem.ipynb*"
   ]
  },
  {
   "attachments": {},
   "cell_type": "markdown",
   "id": "3b3b60b5-65b1-4b0c-8505-9cd4b7d54e02",
   "metadata": {},
   "source": [
    "# Exercise 2: Create markdown cell with title of the notebook\n",
    "*Create a markdown cell with the title Data Science Tools and Ecosystem using H1 style heading.*  \n",
    "**Take a screenshot of the markdown cell and name it as 2-title.png**"
   ]
  },
  {
   "cell_type": "markdown",
   "id": "f7ebb652-6e0a-41e9-97c6-cc4c060ba5f6",
   "metadata": {},
   "source": [
    "# Data Science Tools and Ecosystem"
   ]
  },
  {
   "attachments": {},
   "cell_type": "markdown",
   "id": "29626e08-ee9c-45d6-99f0-255eadfe6555",
   "metadata": {},
   "source": [
    "# Exercise 3 - Create a markdown cell for an introduction\n",
    "*Write an introductory sentence about the notebook such as the follows:\n",
    "In this notebook, Data Science Tools and Ecosystem are summarized.*  \n",
    "**Take a screenshot of the markdown cell and name it as 3-intro.png**"
   ]
  },
  {
   "cell_type": "markdown",
   "id": "78d0939c-7366-4d76-b021-b9af670b3187",
   "metadata": {
    "editable": true,
    "slideshow": {
     "slide_type": ""
    },
    "tags": []
   },
   "source": [
    "In this notebook, Data Science Tools and Ecosystem are summarized."
   ]
  },
  {
   "cell_type": "markdown",
   "id": "13166d06-953f-4044-8640-47692d63807e",
   "metadata": {},
   "source": [
    "**Objectives:**\n",
    "- List Popular Languages for Data Science\n",
    "- List Data Science Libraries\n",
    "- List Data Science Tools\n",
    "- Perform Arithmetic Epressions, and\n",
    "- More!"
   ]
  },
  {
   "attachments": {},
   "cell_type": "markdown",
   "id": "5dec4341-06b7-49a6-89f0-829d91ad7622",
   "metadata": {},
   "source": [
    "# Exercise 4 - Create a markdown cell to list data science languages\n",
    "*Start the cell with an overview line such as:  \n",
    "Some of the popular languages that Data Scientists use are:  \n",
    "Then create an ordered list (i.e. numbered) listing 3 (or more) commonly used languages for data science.*  \n",
    "**Take a screenshot of the markdown cell and name it as 4-dslanguages.png**"
   ]
  },
  {
   "cell_type": "markdown",
   "id": "c0c87d44-28b9-4bf9-bd55-889c22c0212b",
   "metadata": {},
   "source": [
    "Some of the popular languages that Data Scientists use are:  \n",
    "1. Python\n",
    "2. R\n",
    "3. Julia"
   ]
  },
  {
   "attachments": {},
   "cell_type": "markdown",
   "id": "4f64d9fa-4b4b-4d90-ac06-b50fc0f29d5e",
   "metadata": {},
   "source": [
    "# Exercise 5 - Create a markdown cell to list data science libraries!\n",
    "*Add an overview line to the cell like:  \n",
    "Some of the commonly used libraries used by Data Scientists include:   \n",
    "Below this line add an ordered list listing 3 (or more) commonly used libraries in data science.*  \n",
    "**Take a screenshot of the markdown cell and name it as 5-dslibraries.png**"
   ]
  },
  {
   "cell_type": "markdown",
   "id": "bedd1c90-45cc-49fc-9cb2-ab9f5a2ad442",
   "metadata": {},
   "source": [
    "Some of the commonly used libraries used by Data Scientists include:  \n",
    "1) Pandas\n",
    "2) Plotly\n",
    "3) Scikit-learn"
   ]
  },
  {
   "attachments": {},
   "cell_type": "markdown",
   "id": "a57b5e5d-6c8f-4326-9ccc-7d19888d2166",
   "metadata": {},
   "source": [
    "# Exercise 6 - Create a markdown cell with a table of Data Science tools  \n",
    "*Create a single column table in this cell with the first row containing the header Data Science Tools. The subsequent three rows in the table should indicate three development environment open source tools used in data science.*  \n",
    "**Take a screenshot of the markdown cell and name it as 6-dstools.png**  \n",
    "*Hint: Refer to Lab: Using Markdowns in Jupyter Notebooks to create a table.*"
   ]
  },
  {
   "cell_type": "markdown",
   "id": "905a19ff-3379-4a66-a5bf-e58b6d762fd7",
   "metadata": {},
   "source": [
    "| Data Science Tools |\n",
    "|--------------------|\n",
    "| MySQL              |\n",
    "| ModelDB            |\n",
    "| TensorFlow         |"
   ]
  },
  {
   "attachments": {},
   "cell_type": "markdown",
   "id": "389d0c79-1cc8-4cf7-aa48-0890c60c6e3d",
   "metadata": {},
   "source": [
    "# Exercise 7 - Create a markdown cell introducing arithmetic expression examples\n",
    "*Add a line in this cell with H3 style heading with text like:  \n",
    "Below are a few examples of evaluating arithmetic expressions in Python.*  \n",
    "**Take a screenshot of the markdown cell and name it as 7-introarithmetic.png**"
   ]
  },
  {
   "cell_type": "markdown",
   "id": "351053ea-9542-4763-86a9-5a5da30e03a4",
   "metadata": {},
   "source": [
    "### Below are a few examples of evaluating arithmetic expressions in Python."
   ]
  },
  {
   "attachments": {},
   "cell_type": "markdown",
   "id": "f7566d9c-ad67-4da9-9924-ea7a96812e63",
   "metadata": {},
   "source": [
    "# Exercise 8 - Create a code cell to multiply and add numbers  \n",
    "_In this code cell evaluate the expression (3*4)+5.  \n",
    "Insert a comment line before the expression to explain the operation e.g.  This a simple arithmetic expression to mutiply then add integers.  \n",
    "Then execute the cell to ensure the expression returns the expected output of 17._  \n",
    "**Take a screenshot of the code cell with output and name it as 8-multiplyandaddintegers.png**"
   ]
  },
  {
   "cell_type": "code",
   "execution_count": 2,
   "id": "62f955cc-775d-4c6c-892f-b267a9be22a0",
   "metadata": {
    "scrolled": true
   },
   "outputs": [
    {
     "data": {
      "text/plain": [
       "17"
      ]
     },
     "execution_count": 2,
     "metadata": {},
     "output_type": "execute_result"
    }
   ],
   "source": [
    "#This is a simple arithmetic expression to multiply then add integers.\n",
    "(3*4)+5"
   ]
  },
  {
   "attachments": {},
   "cell_type": "markdown",
   "id": "41598f80-489a-4b71-af34-afb59f950c62",
   "metadata": {},
   "source": [
    "# Exercise 9 - Create a code cell to convert minutes to hours   \n",
    "_In this code cell write an expression that converts 200 minutes into hours.  \n",
    "Insert a comment line before the expression to explain the operation e.g.  This will convert 200 minutes to hours by diving by 60.  \n",
    "Run the cell to evaluate the expression._  \n",
    "**Take a screenshot of the code cell with output and name it as 9-hourstominutes.png**"
   ]
  },
  {
   "cell_type": "code",
   "execution_count": 3,
   "id": "da7a0c05-2ec8-43a6-850b-771f411936ed",
   "metadata": {},
   "outputs": [
    {
     "data": {
      "text/plain": [
       "3.3333333333333335"
      ]
     },
     "execution_count": 3,
     "metadata": {},
     "output_type": "execute_result"
    }
   ],
   "source": [
    "#This will convert 200 minutes to hours by dividing by 60.\n",
    "200 / 60"
   ]
  },
  {
   "attachments": {},
   "cell_type": "markdown",
   "id": "d449b826-a14d-4928-af53-9904a2dec605",
   "metadata": {},
   "source": [
    "# Exercise 10 - Insert a markdown cell to list Objectives    \n",
    "_Below the introduction cell created in Exercise 3, insert a new markdown cell to list the objectives that this notebook covered (i.e. some of the key takeaways from the course). In this new cell start with an introductory line titled: Objectives: in bold font. Then using an unordered list (bullets) indicate 3 to 5 items covered in this notebook, such as List popular languages for Data Science._  \n",
    "**Take a screenshot of the markdown cell and name it as 10-objectives.png**"
   ]
  },
  {
   "attachments": {},
   "cell_type": "markdown",
   "id": "349d1ee8-b3be-469c-87be-62657326b294",
   "metadata": {},
   "source": [
    "# Exercise 11 - Create a markdown cell to indicate the Author's name    \n",
    "_In this markdown cell markdown cell include the following text Author in H2 style heading. Include your name as regular text below the word Author._  \n",
    "**Take a screenshot of the markdown cell and name it as 11-authordetails.png**  \n",
    "_Note: Save and download the notebook._"
   ]
  },
  {
   "cell_type": "markdown",
   "id": "8d56bd14-5858-4b57-a1d8-0cc95728c63a",
   "metadata": {},
   "source": [
    "## Author\n",
    "Jake Valle"
   ]
  },
  {
   "attachments": {},
   "cell_type": "markdown",
   "id": "22faadf2-a376-443a-aa5f-82cc97114b7c",
   "metadata": {},
   "source": [
    "# Exercise 12 - Share your notebook through GitHub   \n",
    "_Upload your notebook to a public respository on GitHub.  \n",
    "Note : Please keep the GitHub repo link of the notebook handy.  \n",
    "You will need to submit this link as a part of the assignment evaluation.  \n",
    "Hint: Refer to Lab: Working with files in Jupyter Notebooks to download the notebook from SN Labs._  "
   ]
  },
  {
   "cell_type": "markdown",
   "id": "9bbaac5c-c89d-4d41-b6cd-359826a11f90",
   "metadata": {},
   "source": []
  },
  {
   "attachments": {},
   "cell_type": "markdown",
   "id": "e6b9548e-7ab1-4e88-be52-39d65c65b72b",
   "metadata": {},
   "source": [
    "# Exercise 13 -Take a screenshot of the first page of the notebook and save it as 1-notebook.png  \n",
    "_Refer to Hands-on Lab: Getting Started with GitHub to upload the downloaded notebook to GitHub._  "
   ]
  }
 ],
 "metadata": {
  "kernelspec": {
   "display_name": "Python 3 (ipykernel)",
   "language": "python",
   "name": "python3"
  },
  "language_info": {
   "codemirror_mode": {
    "name": "ipython",
    "version": 3
   },
   "file_extension": ".py",
   "mimetype": "text/x-python",
   "name": "python",
   "nbconvert_exporter": "python",
   "pygments_lexer": "ipython3",
   "version": "3.12.4"
  }
 },
 "nbformat": 4,
 "nbformat_minor": 5
}
